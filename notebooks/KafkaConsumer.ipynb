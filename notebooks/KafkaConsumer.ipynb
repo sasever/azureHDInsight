{
 "cells": [
  {
   "cell_type": "code",
   "execution_count": null,
   "metadata": {},
   "outputs": [],
   "source": [
    "!pip install kafka-python"
   ]
  },
  {
   "cell_type": "code",
   "execution_count": 1,
   "metadata": {},
   "outputs": [],
   "source": [
    "from kafka import KafkaConsumer\n",
    "from kafka.errors import KafkaError\n",
    "import time"
   ]
  },
  {
   "cell_type": "markdown",
   "metadata": {},
   "source": [
    "Consumer settings:"
   ]
  },
  {
   "cell_type": "code",
   "execution_count": 2,
   "metadata": {},
   "outputs": [],
   "source": [
    "from kafka.errors import KafkaError\n",
    "from kafka import KafkaConsumer\n",
    "\n",
    "consumer = KafkaConsumer(bootstrap_servers=['10.9.1.8:9092'\n",
    "                                           ,'10.9.1.5:9092'],\n",
    "                         auto_offset_reset='earliest',\n",
    "                         enable_auto_commit=True,\n",
    "                         group_id='amds-withinvnet-group',\n",
    "                        )\n",
    "consumer.subscribe(['test'])"
   ]
  },
  {
   "cell_type": "code",
   "execution_count": null,
   "metadata": {},
   "outputs": [
    {
     "name": "stdout",
     "output_type": "stream",
     "text": [
      "b'dfjgh' cts: Thu Mar  4 17:57:06 2021\n",
      "b'jdsfhj' cts: Thu Mar  4 17:57:06 2021\n",
      "b'test message' cts: Thu Mar  4 17:57:06 2021\n",
      "b'test message' cts: Thu Mar  4 17:57:06 2021\n",
      "b'test message' cts: Thu Mar  4 17:57:06 2021\n",
      "b'test message' cts: Thu Mar  4 17:57:06 2021\n",
      "b'test message' cts: Thu Mar  4 17:57:06 2021\n",
      "b'test message' cts: Thu Mar  4 17:57:06 2021\n",
      "b'test message' cts: Thu Mar  4 17:57:06 2021\n",
      "b'test message' cts: Thu Mar  4 17:57:06 2021\n",
      "b'test message' cts: Thu Mar  4 17:57:06 2021\n",
      "b'lala' cts: Thu Mar  4 17:57:06 2021\n",
      "b'sdfkjksd' cts: Thu Mar  4 17:57:06 2021\n",
      "b'test message' cts: Thu Mar  4 17:57:06 2021\n",
      "b'test message' cts: Thu Mar  4 17:57:06 2021\n",
      "b'test message' cts: Thu Mar  4 17:57:06 2021\n",
      "b'test message' cts: Thu Mar  4 17:57:06 2021\n",
      "b'test message' cts: Thu Mar  4 17:57:06 2021\n",
      "b'test message' cts: Thu Mar  4 17:57:06 2021\n",
      "b'test message' cts: Thu Mar  4 17:57:06 2021\n",
      "b'test message' cts: Thu Mar  4 17:57:06 2021\n",
      "b'test message' cts: Thu Mar  4 17:57:06 2021\n",
      "b'test message' cts: Thu Mar  4 17:57:06 2021\n",
      "b'test message' cts: Thu Mar  4 17:57:06 2021\n",
      "b'test message' cts: Thu Mar  4 17:57:06 2021\n",
      "b'\\xc4\\xb1djf' cts: Thu Mar  4 17:57:06 2021\n",
      "b'\\xc4\\xb1gf\\xc4\\xb1gfgggg' cts: Thu Mar  4 17:57:06 2021\n",
      "b'test message' cts: Thu Mar  4 17:57:06 2021\n",
      "b'test message' cts: Thu Mar  4 17:57:06 2021\n",
      "b'test message' cts: Thu Mar  4 17:57:06 2021\n",
      "b'test message' cts: Thu Mar  4 17:57:06 2021\n",
      "b'test message' cts: Thu Mar  4 17:57:06 2021\n",
      "b'test message' cts: Thu Mar  4 17:57:06 2021\n",
      "b'test message' cts: Thu Mar  4 17:57:06 2021\n",
      "b'test message' cts: Thu Mar  4 17:57:06 2021\n",
      "b'test message' cts: Thu Mar  4 17:57:06 2021\n",
      "b'test message' cts: Thu Mar  4 17:57:06 2021\n",
      "b'test message' cts: Thu Mar  4 17:57:06 2021\n",
      "b'test message' cts: Thu Mar  4 17:57:06 2021\n",
      "b'test message' cts: Thu Mar  4 17:57:06 2021\n",
      "b'jdfkgh' cts: Thu Mar  4 17:57:06 2021\n",
      "b'kdsjf' cts: Thu Mar  4 17:57:06 2021\n",
      "b'test message' cts: Thu Mar  4 17:57:06 2021\n",
      "b'test message' cts: Thu Mar  4 17:57:06 2021\n",
      "b'test message' cts: Thu Mar  4 17:57:06 2021\n",
      "b'test message' cts: Thu Mar  4 17:57:06 2021\n",
      "b'test message' cts: Thu Mar  4 17:57:06 2021\n",
      "b'test message' cts: Thu Mar  4 17:57:06 2021\n",
      "b'test message' cts: Thu Mar  4 17:57:06 2021\n",
      "b'test message' cts: Thu Mar  4 17:57:06 2021\n",
      "b'test message' cts: Thu Mar  4 17:57:06 2021\n",
      "b'test message' cts: Thu Mar  4 17:57:06 2021\n",
      "b'test message' cts: Thu Mar  4 17:57:06 2021\n",
      "b'test message' cts: Thu Mar  4 17:57:06 2021\n",
      "b'test message' cts: Thu Mar  4 17:57:06 2021\n",
      "b'test message' cts: Thu Mar  4 17:57:06 2021\n",
      "b'test message' cts: Thu Mar  4 17:57:06 2021\n",
      "b'test message' cts: Thu Mar  4 17:57:06 2021\n"
     ]
    }
   ],
   "source": [
    "for message in consumer:\n",
    "    print (str(message.value) + ' cts: '+ time.ctime(int(time.time())))"
   ]
  }
 ],
 "metadata": {
  "kernelspec": {
   "display_name": "Python 3.7 - default",
   "language": "python",
   "name": "py37_default"
  },
  "language_info": {
   "codemirror_mode": {
    "name": "ipython",
    "version": 3
   },
   "file_extension": ".py",
   "mimetype": "text/x-python",
   "name": "python",
   "nbconvert_exporter": "python",
   "pygments_lexer": "ipython3",
   "version": "3.7.9"
  }
 },
 "nbformat": 4,
 "nbformat_minor": 4
}
