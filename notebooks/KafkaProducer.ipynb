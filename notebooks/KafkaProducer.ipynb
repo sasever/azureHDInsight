{
 "cells": [
  {
   "cell_type": "code",
   "execution_count": 1,
   "metadata": {},
   "outputs": [
    {
     "name": "stdout",
     "output_type": "stream",
     "text": [
      "Collecting kafka-python\n",
      "  Downloading kafka_python-2.0.2-py2.py3-none-any.whl (246 kB)\n",
      "Installing collected packages: kafka-python\n",
      "Successfully installed kafka-python-2.0.2\n"
     ]
    }
   ],
   "source": [
    "!pip install kafka-python"
   ]
  },
  {
   "cell_type": "code",
   "execution_count": 2,
   "metadata": {},
   "outputs": [],
   "source": [
    "from kafka import KafkaProducer\n",
    "from kafka.errors import KafkaError\n",
    "from IPython.display import display, clear_output\n",
    "import random\n",
    "import json\n",
    "import time"
   ]
  },
  {
   "cell_type": "markdown",
   "metadata": {},
   "source": [
    "Producer settings:"
   ]
  },
  {
   "cell_type": "code",
   "execution_count": 12,
   "metadata": {},
   "outputs": [],
   "source": [
    "producer = KafkaProducer(bootstrap_servers=['<your broker IP or FQDN 1>'\n",
    "                                           ,'<your broker IP or FQDN 2>'])\n",
    "\n",
    "\n",
    "topic = \"test\""
   ]
  },
  {
   "cell_type": "markdown",
   "metadata": {},
   "source": [
    "Complex Data Test Block"
   ]
  },
  {
   "cell_type": "code",
   "execution_count": null,
   "metadata": {},
   "outputs": [],
   "source": [
    "message_count = 100\n",
    "sleep_time = 2 #seconds\n",
    "idxl = [1, 2, 3, 4, 5, 6, 7, 8, 9, 10]\n",
    "signalcode = [\"red\",\"green\",\"yellow\",\"blue\",\"pink\",\"black\"]"
   ]
  },
  {
   "cell_type": "code",
   "execution_count": null,
   "metadata": {},
   "outputs": [],
   "source": [
    "print(\"starting sending messages, start time: {0}\".format(time.ctime(int(time.time()))))\n",
    "for  i in range (0,message_count): \n",
    "    random.shuffle(idxl)\n",
    "    random.shuffle(signalcode)\n",
    "    idx = random.sample(idxl,  1)[0]\n",
    "    sig = random.sample(signalcode,  1)[0]\n",
    "    payload = random.randint(1, 1000)\n",
    "    messageval = {\"idx\": idx, \"payload\": payload, \"signal\":sig,  \"timestamp\": time.ctime(int(time.time()))}\n",
    "\n",
    "    producer.send(topic, json.dumps(messageval).encode('utf-8'))\n",
    "\n",
    "    clear_output(wait=True)\n",
    "    display(\"message : \"+str(i)+\" | value=\"+str(messageval))\n",
    "    \n",
    "    time.sleep(sleep_time)\n",
    "print(\"finished sending messages, sent message count: {0} , end time: {1}\".format(message_count, time.ctime(int(time.time()))))"
   ]
  },
  {
   "cell_type": "code",
   "execution_count": 11,
   "metadata": {},
   "outputs": [],
   "source": [
    "producer.close()"
   ]
  }
 ],
 "metadata": {
  "kernelspec": {
   "display_name": "Python 3.7 - default",
   "language": "python",
   "name": "py37_default"
  },
  "language_info": {
   "codemirror_mode": {
    "name": "ipython",
    "version": 3
   },
   "file_extension": ".py",
   "mimetype": "text/x-python",
   "name": "python",
   "nbconvert_exporter": "python",
   "pygments_lexer": "ipython3",
   "version": "3.7.9"
  }
 },
 "nbformat": 4,
 "nbformat_minor": 4
}
